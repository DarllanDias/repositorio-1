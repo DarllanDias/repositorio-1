{
 "cells": [
  {
   "cell_type": "code",
   "execution_count": 12,
   "metadata": {},
   "outputs": [],
   "source": [
    "import aspose.words as aw\n",
    "import PyPDF2 as pyf\n",
    "from pathlib import Path\n",
    "\n",
    "#docx = aw.Document('PONTE SÃO LUIZ_NFS.pdf')\n",
    "\n",
    "#docx.save('result_sample.jpg')"
   ]
  },
  {
   "cell_type": "code",
   "execution_count": 14,
   "metadata": {},
   "outputs": [],
   "source": [
    "#Separar nfs\n",
    "nome = \"nfs sindico.pdf\"\n",
    "arquivo_pdf = pyf.PdfReader(nome)\n",
    "\n",
    "for i, pagina in enumerate(arquivo_pdf.pages):\n",
    "    num_pag = i + 1\n",
    "    novo_pdf = pyf.PdfWriter()\n",
    "    novo_pdf.add_page(pagina)\n",
    "    with Path(f'notas/Arquivo pagina {num_pag}.pdf').open(mode =\"wb\") as arquivo:\n",
    "        novo_pdf.write(arquivo)"
   ]
  },
  {
   "cell_type": "code",
   "execution_count": 15,
   "metadata": {},
   "outputs": [
    {
     "name": "stderr",
     "output_type": "stream",
     "text": [
      "incorrect startxref pointer(2)\n"
     ]
    }
   ],
   "source": [
    "#separar boletos\n",
    "nome = \"boletos sindico.PDF\"\n",
    "arquivo_pdf = pyf.PdfReader(nome)\n",
    "\n",
    "for i, pagina in enumerate(arquivo_pdf.pages):\n",
    "    num_pag = i + 1\n",
    "    novo_pdf = pyf.PdfWriter()\n",
    "    novo_pdf.add_page(pagina)\n",
    "    with Path(f'boletos/Arquivo pagina {num_pag}.pdf').open(mode =\"wb\") as arquivo:\n",
    "        novo_pdf.write(arquivo)\n"
   ]
  }
 ],
 "metadata": {
  "kernelspec": {
   "display_name": "Python 3",
   "language": "python",
   "name": "python3"
  },
  "language_info": {
   "codemirror_mode": {
    "name": "ipython",
    "version": 3
   },
   "file_extension": ".py",
   "mimetype": "text/x-python",
   "name": "python",
   "nbconvert_exporter": "python",
   "pygments_lexer": "ipython3",
   "version": "3.9.13"
  }
 },
 "nbformat": 4,
 "nbformat_minor": 2
}
