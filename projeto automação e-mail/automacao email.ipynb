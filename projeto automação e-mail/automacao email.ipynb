{
 "cells": [
  {
   "cell_type": "markdown",
   "metadata": {},
   "source": [
    "Passos do projeto\n",
    "\n",
    "1 receceber arquivos de nota e boleto\n",
    "2 tratar separar arquivos\n",
    "3 nomear arquivos\n",
    "4 encaminhar os arquivos para o preposto por e-mail\n"
   ]
  },
  {
   "cell_type": "code",
   "execution_count": 19,
   "metadata": {},
   "outputs": [],
   "source": [
    "import smtplib\n",
    "import email.message\n",
    "from email.mime.multipart import MIMEMultipart\n",
    "from email.mime.text import MIMEText\n",
    "from email.mime.application import MIMEApplication\n",
    "import pandas as pd\n",
    "import sys"
   ]
  },
  {
   "cell_type": "code",
   "execution_count": 5,
   "metadata": {},
   "outputs": [
    {
     "data": {
      "text/html": [
       "<div>\n",
       "<style scoped>\n",
       "    .dataframe tbody tr th:only-of-type {\n",
       "        vertical-align: middle;\n",
       "    }\n",
       "\n",
       "    .dataframe tbody tr th {\n",
       "        vertical-align: top;\n",
       "    }\n",
       "\n",
       "    .dataframe thead th {\n",
       "        text-align: right;\n",
       "    }\n",
       "</style>\n",
       "<table border=\"1\" class=\"dataframe\">\n",
       "  <thead>\n",
       "    <tr style=\"text-align: right;\">\n",
       "      <th></th>\n",
       "      <th>condomínio</th>\n",
       "      <th>preposto</th>\n",
       "      <th>email</th>\n",
       "    </tr>\n",
       "  </thead>\n",
       "  <tbody>\n",
       "    <tr>\n",
       "      <th>0</th>\n",
       "      <td>ponte sao luiz</td>\n",
       "      <td>Darllan</td>\n",
       "      <td>darllan.dias@estasa.com.br</td>\n",
       "    </tr>\n",
       "    <tr>\n",
       "      <th>1</th>\n",
       "      <td>cardoso</td>\n",
       "      <td>Darllan</td>\n",
       "      <td>darllan.dias@estasa.com.br</td>\n",
       "    </tr>\n",
       "    <tr>\n",
       "      <th>2</th>\n",
       "      <td>deolinda</td>\n",
       "      <td>Rodrigo</td>\n",
       "      <td>clientesdiasdeofertas+nota@gmail.com</td>\n",
       "    </tr>\n",
       "    <tr>\n",
       "      <th>3</th>\n",
       "      <td>canopus</td>\n",
       "      <td>Darllan</td>\n",
       "      <td>darllan.dias@estasa.com.br</td>\n",
       "    </tr>\n",
       "  </tbody>\n",
       "</table>\n",
       "</div>"
      ],
      "text/plain": [
       "       condomínio preposto                                 email\n",
       "0  ponte sao luiz  Darllan            darllan.dias@estasa.com.br\n",
       "1         cardoso  Darllan            darllan.dias@estasa.com.br\n",
       "2        deolinda  Rodrigo  clientesdiasdeofertas+nota@gmail.com\n",
       "3         canopus  Darllan            darllan.dias@estasa.com.br"
      ]
     },
     "metadata": {},
     "output_type": "display_data"
    }
   ],
   "source": [
    "condominios = pd.read_excel(r\"base email.xlsx\")\n",
    "display(condominios)"
   ]
  },
  {
   "cell_type": "code",
   "execution_count": 36,
   "metadata": {},
   "outputs": [],
   "source": [
    "def enviar_email_notas():\n",
    "    msg = MIMEMultipart()\n",
    "    msg['Subject']= 'Nota de Pagamento Condomínio {}'.format(Condominio)\n",
    "    msg['from'] = 'clientesdiasdeofertas@gmail.com'\n",
    "    msg['to'] = condominios.loc[condominios['condomínio']== Condominio,'email'].values[0]\n",
    "    msg['Cc'] = 'clientesdiasdeofertas+copia@gmail.com'\n",
    "\n",
    "    corpo_email = \"\"\"<p>Prezado </p> <p>segue a nota fiscal do condomínio para pagamento</p> <p>Atenciosamente</p>\"\"\"\n",
    "    \n",
    "    \n",
    "    msg.attach(MIMEText(corpo_email, 'html'))\n",
    "    try:\n",
    "        \n",
    "        with open(f'base dados/notas/{Condominio}.pdf', 'rb') as arquivo:\n",
    "            msg.attach(MIMEApplication(arquivo.read(), Name=f'{Condominio}.pdf'))\n",
    "        with open(f'base dados/boletos/{Condominio}.pdf', 'rb') as arquivo:\n",
    "            msg.attach(MIMEApplication(arquivo.read(), Name=f'{Condominio}.pdf'))\n",
    "\n",
    "        servidor = smtplib.SMTP('smtp.gmail.com', 587)\n",
    "        servidor.starttls()\n",
    "        servidor.login(msg['from'], 'h s q m c b a r l h l s f k z g')\n",
    "        servidor.send_message(msg)\n",
    "        print(f'email enviado condomínio {Condominio}', file= novo_arquivo)\n",
    "    except:\n",
    "        print(f'Arquivos do condomínio {Condominio} com erro', file=novo_arquivo)\n",
    "            "
   ]
  },
  {
   "cell_type": "code",
   "execution_count": 37,
   "metadata": {},
   "outputs": [],
   "source": [
    "novo_arquivo = open('relatório.txt', 'w+')\n",
    "for Condominio in condominios['condomínio']:\n",
    "    enviar_email_notas()\n",
    "novo_arquivo.close()\n"
   ]
  }
 ],
 "metadata": {
  "kernelspec": {
   "display_name": "Python 3",
   "language": "python",
   "name": "python3"
  },
  "language_info": {
   "codemirror_mode": {
    "name": "ipython",
    "version": 3
   },
   "file_extension": ".py",
   "mimetype": "text/x-python",
   "name": "python",
   "nbconvert_exporter": "python",
   "pygments_lexer": "ipython3",
   "version": "3.9.13"
  }
 },
 "nbformat": 4,
 "nbformat_minor": 2
}
